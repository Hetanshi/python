{
 "cells": [
  {
   "cell_type": "markdown",
   "metadata": {},
   "source": [
    "# Create a custom list of words for word2vec play\n",
    "\n",
    "## The task\n",
    "\n",
    "Go from this (CSV containing Seinfeld dialogue and metadata):\n",
    "\n",
    "```\n",
    "...51,CLAIRE,\"Id have to say, uuhh, no.\",1,S01E01,1\n",
    "52,(George shows his note-block to Jerry; it says very largely,NO.),1,S01E01,1\n",
    "53,CLAIRE,To be polite.,1,S01E01,1\n",
    "54,GEORGE,To be polite. I rest my case.,1,S01E01,1\n",
    "55,JERRY,\"Good. Did you have fun? You have no idea, what youre talking about, now, come on, come with me. (stands up) I gotta go get my stuff out of the dryer anyway.\",1,S01E01,1\n",
    "56,GEORGE,Im not gonna watch you do laundry.,1,S01E01,1\n",
    "57,JERRY,\"Oh, come on, be a come-with guy.\",1,S01E01,1\n",
    "58,GEORGE,\"Come on, Im tired.\",1,S01E01,1\n",
    "59,CLAIRE,\"(to Jerry) Dont worry, I gave him a little caffeine. Hell perk up.\",1,S01E01,1\n",
    "60,GEORGE,\"(panicking) Right, I knew I felt something!\",1,S01E01,1\n",
    "61,GEORGE,Jerry? I have to tell you something. This is the dullest moment Ive ever experienced.,1,S01E01,1\n",
    "62,JERRY,\"Well, look at this guy. Look, hes got everything, hes got detergents, sprays, fabric softeners.  This is not his first load.\",1,S01E01,1...\n",
    "```\n",
    "\n",
    "To this (a list of each word spoken in Seinfeld):\n",
    "\n",
    "```\n",
    "[...'agenda', 'agent', 'agents', 'ages', 'aggravate',...]\n",
    "```\n",
    "\n",
    "<br>\n",
    "\n",
    "## Our steps\n",
    "\n",
    "1. Take a look at the source data\n",
    "1. Extract the dialogue\n",
    "1. Remove unwanted punctuation\n",
    "1. Split text into list\n",
    "1. Unique the list"
   ]
  },
  {
   "cell_type": "markdown",
   "metadata": {},
   "source": [
    "## Take a look at the source data"
   ]
  },
  {
   "cell_type": "code",
   "execution_count": 19,
   "metadata": {},
   "outputs": [],
   "source": [
    "# Import read_csv\n",
    "from pandas import read_csv"
   ]
  },
  {
   "cell_type": "code",
   "execution_count": 20,
   "metadata": {},
   "outputs": [],
   "source": [
    "# Create a dataframe object using the csv as the data\n",
    "df = read_csv('seinfeld_raw.csv')"
   ]
  },
  {
   "cell_type": "code",
   "execution_count": 21,
   "metadata": {},
   "outputs": [
    {
     "data": {
      "text/html": [
       "<div>\n",
       "<style scoped>\n",
       "    .dataframe tbody tr th:only-of-type {\n",
       "        vertical-align: middle;\n",
       "    }\n",
       "\n",
       "    .dataframe tbody tr th {\n",
       "        vertical-align: top;\n",
       "    }\n",
       "\n",
       "    .dataframe thead th {\n",
       "        text-align: right;\n",
       "    }\n",
       "</style>\n",
       "<table border=\"1\" class=\"dataframe\">\n",
       "  <thead>\n",
       "    <tr style=\"text-align: right;\">\n",
       "      <th></th>\n",
       "      <th>Unnamed: 0</th>\n",
       "      <th>Character</th>\n",
       "      <th>Dialogue</th>\n",
       "      <th>EpisodeNo</th>\n",
       "      <th>SEID</th>\n",
       "      <th>Season</th>\n",
       "    </tr>\n",
       "  </thead>\n",
       "  <tbody>\n",
       "    <tr>\n",
       "      <td>0</td>\n",
       "      <td>0</td>\n",
       "      <td>JERRY</td>\n",
       "      <td>Do you know what this is all about? Do you kno...</td>\n",
       "      <td>1</td>\n",
       "      <td>S01E01</td>\n",
       "      <td>1</td>\n",
       "    </tr>\n",
       "    <tr>\n",
       "      <td>1</td>\n",
       "      <td>1</td>\n",
       "      <td>JERRY</td>\n",
       "      <td>(pointing at Georges shirt) See, to me, that b...</td>\n",
       "      <td>1</td>\n",
       "      <td>S01E01</td>\n",
       "      <td>1</td>\n",
       "    </tr>\n",
       "    <tr>\n",
       "      <td>2</td>\n",
       "      <td>2</td>\n",
       "      <td>GEORGE</td>\n",
       "      <td>Are you through?</td>\n",
       "      <td>1</td>\n",
       "      <td>S01E01</td>\n",
       "      <td>1</td>\n",
       "    </tr>\n",
       "    <tr>\n",
       "      <td>3</td>\n",
       "      <td>3</td>\n",
       "      <td>JERRY</td>\n",
       "      <td>You do of course try on, when you buy?</td>\n",
       "      <td>1</td>\n",
       "      <td>S01E01</td>\n",
       "      <td>1</td>\n",
       "    </tr>\n",
       "    <tr>\n",
       "      <td>4</td>\n",
       "      <td>4</td>\n",
       "      <td>GEORGE</td>\n",
       "      <td>Yes, it was purple, I liked it, I dont actuall...</td>\n",
       "      <td>1</td>\n",
       "      <td>S01E01</td>\n",
       "      <td>1</td>\n",
       "    </tr>\n",
       "    <tr>\n",
       "      <td>...</td>\n",
       "      <td>...</td>\n",
       "      <td>...</td>\n",
       "      <td>...</td>\n",
       "      <td>...</td>\n",
       "      <td>...</td>\n",
       "      <td>...</td>\n",
       "    </tr>\n",
       "    <tr>\n",
       "      <td>54611</td>\n",
       "      <td>54611</td>\n",
       "      <td>JERRY</td>\n",
       "      <td>Grand theft auto - don't steal any of my jokes.</td>\n",
       "      <td>23</td>\n",
       "      <td>S09E23</td>\n",
       "      <td>9</td>\n",
       "    </tr>\n",
       "    <tr>\n",
       "      <td>54612</td>\n",
       "      <td>54612</td>\n",
       "      <td>PRISONER 3</td>\n",
       "      <td>You suck - I'm gonna cut you.</td>\n",
       "      <td>23</td>\n",
       "      <td>S09E23</td>\n",
       "      <td>9</td>\n",
       "    </tr>\n",
       "    <tr>\n",
       "      <td>54613</td>\n",
       "      <td>54613</td>\n",
       "      <td>JERRY</td>\n",
       "      <td>Hey, I don't come down to where you work, and ...</td>\n",
       "      <td>23</td>\n",
       "      <td>S09E23</td>\n",
       "      <td>9</td>\n",
       "    </tr>\n",
       "    <tr>\n",
       "      <td>54614</td>\n",
       "      <td>54614</td>\n",
       "      <td>GUARD</td>\n",
       "      <td>Alright, Seinfeld, that's it. Let's go. Come on.</td>\n",
       "      <td>23</td>\n",
       "      <td>S09E23</td>\n",
       "      <td>9</td>\n",
       "    </tr>\n",
       "    <tr>\n",
       "      <td>54615</td>\n",
       "      <td>54615</td>\n",
       "      <td>JERRY</td>\n",
       "      <td>Alright, hey, you've been great! See you in th...</td>\n",
       "      <td>23</td>\n",
       "      <td>S09E23</td>\n",
       "      <td>9</td>\n",
       "    </tr>\n",
       "  </tbody>\n",
       "</table>\n",
       "<p>54616 rows × 6 columns</p>\n",
       "</div>"
      ],
      "text/plain": [
       "       Unnamed: 0   Character  \\\n",
       "0               0       JERRY   \n",
       "1               1       JERRY   \n",
       "2               2      GEORGE   \n",
       "3               3       JERRY   \n",
       "4               4      GEORGE   \n",
       "...           ...         ...   \n",
       "54611       54611       JERRY   \n",
       "54612       54612  PRISONER 3   \n",
       "54613       54613       JERRY   \n",
       "54614       54614       GUARD   \n",
       "54615       54615       JERRY   \n",
       "\n",
       "                                                Dialogue  EpisodeNo    SEID  \\\n",
       "0      Do you know what this is all about? Do you kno...          1  S01E01   \n",
       "1      (pointing at Georges shirt) See, to me, that b...          1  S01E01   \n",
       "2                                       Are you through?          1  S01E01   \n",
       "3                 You do of course try on, when you buy?          1  S01E01   \n",
       "4      Yes, it was purple, I liked it, I dont actuall...          1  S01E01   \n",
       "...                                                  ...        ...     ...   \n",
       "54611    Grand theft auto - don't steal any of my jokes.         23  S09E23   \n",
       "54612                      You suck - I'm gonna cut you.         23  S09E23   \n",
       "54613  Hey, I don't come down to where you work, and ...         23  S09E23   \n",
       "54614   Alright, Seinfeld, that's it. Let's go. Come on.         23  S09E23   \n",
       "54615  Alright, hey, you've been great! See you in th...         23  S09E23   \n",
       "\n",
       "       Season  \n",
       "0           1  \n",
       "1           1  \n",
       "2           1  \n",
       "3           1  \n",
       "4           1  \n",
       "...       ...  \n",
       "54611       9  \n",
       "54612       9  \n",
       "54613       9  \n",
       "54614       9  \n",
       "54615       9  \n",
       "\n",
       "[54616 rows x 6 columns]"
      ]
     },
     "execution_count": 21,
     "metadata": {},
     "output_type": "execute_result"
    }
   ],
   "source": [
    "# Preview the dataframe object\n",
    "df"
   ]
  },
  {
   "cell_type": "code",
   "execution_count": 26,
   "metadata": {},
   "outputs": [
    {
     "data": {
      "text/plain": [
       "0    Do you know what this is all about? Do you kno...\n",
       "1    (pointing at Georges shirt) See, to me, that b...\n",
       "2                                     Are you through?\n",
       "3               You do of course try on, when you buy?\n",
       "4    Yes, it was purple, I liked it, I dont actuall...\n",
       "Name: Dialogue, dtype: object"
      ]
     },
     "execution_count": 26,
     "metadata": {},
     "output_type": "execute_result"
    }
   ],
   "source": [
    "# Narrrow in on only the dialogue column,\n",
    "# and preview just the first five rows\n",
    "df['Dialogue'][:5]"
   ]
  },
  {
   "cell_type": "code",
   "execution_count": 27,
   "metadata": {},
   "outputs": [
    {
     "data": {
      "text/plain": [
       "['Do you know what this is all about? Do you know, why were here? To be out, this is out...and out is one of the single most enjoyable experiences of life. People...did you ever hear people talking about We should go out? This is what theyre talking about...this whole thing, were all out now, no one is home. Not one person here is home, were all out! There are people tryin to find us, they dont know where we are. (on an imaginary phone) Did you ring?, I cant find him. Where did he go? He didnt tell me where he was going. He must have gone out. You wanna go out you get ready, you pick out the clothes, right? You take the shower, you get all ready, get the cash, get your friends, the car, the spot, the reservation...Then youre standing around, whatta you do? You go We gotta be getting back. Once youre out, you wanna get back! You wanna go to sleep, you wanna get up, you wanna go out again tomorrow, right? Where ever you are in life, its my feeling, youve gotta go.',\n",
       " '(pointing at Georges shirt) See, to me, that button is in the worst possible spot. The second button literally makes or breaks the shirt, look at it. Its too high! Its in no-mans-land. You look like you live with your mother.',\n",
       " 'Are you through?',\n",
       " 'You do of course try on, when you buy?',\n",
       " 'Yes, it was purple, I liked it, I dont actually recall considering the buttons.']"
      ]
     },
     "execution_count": 27,
     "metadata": {},
     "output_type": "execute_result"
    }
   ],
   "source": [
    "# View that same data as a list\n",
    "df['Dialogue'].tolist()[:5]"
   ]
  },
  {
   "cell_type": "code",
   "execution_count": 30,
   "metadata": {},
   "outputs": [],
   "source": [
    "# Create one big string that contains all dialogue turns\n",
    "dialogue_list = df['Dialogue'].astype(str).tolist()\n",
    "dialogue_txt = ' '.join(dialogue_list)"
   ]
  },
  {
   "cell_type": "code",
   "execution_count": 34,
   "metadata": {},
   "outputs": [
    {
     "data": {
      "text/plain": [
       "'Do you know what this is all about? Do you know, why were here? To be out, this is out...and out is one of the single most enjoyable experiences of life. People...did you ever hear people talking about We should go out? This is what theyre talking about...this whole thing, were all out now, no one is home. Not one person here is home, were all out! There are people tryin to find us, they dont know'"
      ]
     },
     "execution_count": 34,
     "metadata": {},
     "output_type": "execute_result"
    }
   ],
   "source": [
    "# Preview the first 400 characters in our big dialogue string\n",
    "dialogue_txt[:400]"
   ]
  },
  {
   "cell_type": "markdown",
   "metadata": {},
   "source": [
    "## Convert dialogue to token list"
   ]
  },
  {
   "cell_type": "code",
   "execution_count": 38,
   "metadata": {},
   "outputs": [
    {
     "data": {
      "text/plain": [
       "['Do',\n",
       " 'you',\n",
       " 'know',\n",
       " 'what',\n",
       " 'this',\n",
       " 'is',\n",
       " 'all',\n",
       " 'about?',\n",
       " 'Do',\n",
       " 'you',\n",
       " 'know,',\n",
       " 'why',\n",
       " 'were',\n",
       " 'here?',\n",
       " 'To',\n",
       " 'be',\n",
       " 'out,',\n",
       " 'this',\n",
       " 'is',\n",
       " 'out...and',\n",
       " 'out',\n",
       " 'is',\n",
       " 'one',\n",
       " 'of',\n",
       " 'the',\n",
       " 'single',\n",
       " 'most',\n",
       " 'enjoyable',\n",
       " 'experiences',\n",
       " 'of',\n",
       " 'life.',\n",
       " 'People...did',\n",
       " 'you',\n",
       " 'ever',\n",
       " 'hear',\n",
       " 'people',\n",
       " 'talking',\n",
       " 'about',\n",
       " 'We',\n",
       " 'should',\n",
       " 'go',\n",
       " 'out?',\n",
       " 'This',\n",
       " 'is',\n",
       " 'what',\n",
       " 'theyre',\n",
       " 'talking',\n",
       " 'about...this',\n",
       " 'whole',\n",
       " 'thing,']"
      ]
     },
     "execution_count": 38,
     "metadata": {},
     "output_type": "execute_result"
    }
   ],
   "source": [
    "# Split the dialogue using a basic split method\n",
    "dialogue_txt.split(' ')[:50]"
   ]
  },
  {
   "cell_type": "code",
   "execution_count": 43,
   "metadata": {},
   "outputs": [],
   "source": [
    "# Import re, which stands for regular expression\n",
    "import re\n",
    "\n",
    "# Define a pattern using a regular expression\n",
    "pattern = r\"[^a-z]\"\n",
    "\n",
    "# Search for the pattern, and replace every instance\n",
    "# with a replacement string\n",
    "dialogue_txt = re.sub(pattern, ' ', dialogue_txt.lower())"
   ]
  },
  {
   "cell_type": "code",
   "execution_count": 47,
   "metadata": {},
   "outputs": [
    {
     "data": {
      "text/plain": [
       "'do you know what this is all about  do you know  why were here  to be out  this is out   and out is one of the single most enjoyable experiences of life  people   did you ever hear people talking about we should go out  this is what theyre talking about   this whole thing  were all out now  no one is home  not one person here is home  were all out  there are people tryin to find us  they dont know'"
      ]
     },
     "execution_count": 47,
     "metadata": {},
     "output_type": "execute_result"
    }
   ],
   "source": [
    "# Preview the first 400 characters in our new dialogue_txt\n",
    "dialogue_txt[:400]"
   ]
  },
  {
   "cell_type": "code",
   "execution_count": 48,
   "metadata": {},
   "outputs": [],
   "source": [
    "# Split the dialogue text into a list of tokens\n",
    "dialogue_list = re.split(r\" +\", prepareText(dialogue_txt))"
   ]
  },
  {
   "cell_type": "code",
   "execution_count": 50,
   "metadata": {},
   "outputs": [
    {
     "data": {
      "text/plain": [
       "['do',\n",
       " 'you',\n",
       " 'know',\n",
       " 'what',\n",
       " 'this',\n",
       " 'is',\n",
       " 'all',\n",
       " 'about',\n",
       " 'do',\n",
       " 'you',\n",
       " 'know',\n",
       " 'why',\n",
       " 'were',\n",
       " 'here',\n",
       " 'to',\n",
       " 'be',\n",
       " 'out',\n",
       " 'this',\n",
       " 'is',\n",
       " 'out',\n",
       " 'and',\n",
       " 'out',\n",
       " 'is',\n",
       " 'one',\n",
       " 'of',\n",
       " 'the',\n",
       " 'single',\n",
       " 'most',\n",
       " 'enjoyable',\n",
       " 'experiences',\n",
       " 'of',\n",
       " 'life',\n",
       " 'people',\n",
       " 'did',\n",
       " 'you',\n",
       " 'ever',\n",
       " 'hear',\n",
       " 'people',\n",
       " 'talking',\n",
       " 'about',\n",
       " 'we',\n",
       " 'should',\n",
       " 'go',\n",
       " 'out',\n",
       " 'this',\n",
       " 'is',\n",
       " 'what',\n",
       " 'theyre',\n",
       " 'talking',\n",
       " 'about']"
      ]
     },
     "execution_count": 50,
     "metadata": {},
     "output_type": "execute_result"
    }
   ],
   "source": [
    "# Preview the first few items in the dialogue list\n",
    "dialogue_list[:50]"
   ]
  },
  {
   "cell_type": "markdown",
   "metadata": {},
   "source": [
    "## Unique the list"
   ]
  },
  {
   "cell_type": "code",
   "execution_count": 13,
   "metadata": {},
   "outputs": [],
   "source": [
    "# Create an empty list where we'll store exactly one\n",
    "# of each token\n",
    "unique_token_list = []\n",
    "\n",
    "# For each token in the dialogue list,\n",
    "for token in dialogue_list:\n",
    "    # if (and only if) that token is not yet in the unique list\n",
    "    if token not in unique_token_list:\n",
    "        # add it to the unique list\n",
    "        unique_token_list.append(token)\n",
    "\n",
    "# Sort the list, so it'll be easier\n",
    "# to spot duplicates if they exist\n",
    "unique_token_list.sort()"
   ]
  },
  {
   "cell_type": "code",
   "execution_count": 51,
   "metadata": {},
   "outputs": [
    {
     "name": "stdout",
     "output_type": "stream",
     "text": [
      "['agenda', 'agent', 'agents', 'ages', 'aggravate', 'aggravated', 'aggravation', 'aggressive', 'agh', 'aghast', 'aghh', 'agian', 'aging', 'agitated', 'agitator', 'ago', 'agonised', 'agony', 'agr', 'agrabah']\n"
     ]
    }
   ],
   "source": [
    "print(unique_tokens[300:320])"
   ]
  },
  {
   "cell_type": "markdown",
   "metadata": {},
   "source": [
    "## Write to file"
   ]
  },
  {
   "cell_type": "code",
   "execution_count": 332,
   "metadata": {},
   "outputs": [],
   "source": [
    "# with open('seinfeld_tokens.txt', 'w') as f:\n",
    "#     for token in unique_tokens:\n",
    "#         f.write(token + '\\n')"
   ]
  },
  {
   "cell_type": "markdown",
   "metadata": {},
   "source": [
    "## The shorthand way"
   ]
  },
  {
   "cell_type": "code",
   "execution_count": null,
   "metadata": {},
   "outputs": [],
   "source": []
  }
 ],
 "metadata": {
  "kernelspec": {
   "display_name": "Python 3",
   "language": "python",
   "name": "python3"
  },
  "language_info": {
   "codemirror_mode": {
    "name": "ipython",
    "version": 3
   },
   "file_extension": ".py",
   "mimetype": "text/x-python",
   "name": "python",
   "nbconvert_exporter": "python",
   "pygments_lexer": "ipython3",
   "version": "3.7.4"
  }
 },
 "nbformat": 4,
 "nbformat_minor": 2
}
