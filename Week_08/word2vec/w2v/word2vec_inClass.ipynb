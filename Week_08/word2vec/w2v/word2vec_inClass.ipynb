{
 "cells": [
  {
   "cell_type": "markdown",
   "metadata": {},
   "source": [
    "<h1>What is word2vec?</h1>\n",
    "<p>Word2vec is a machine learning method to efficiently create `word embeddings`.</p>\n",
    "\n",
    "Every word is transformed into a numeral sequence or an array of numbers: \n",
    "`multi-dimensional meaning representations of a word`\n",
    "\n",
    "The vector data of one word `banana` can look like:\n",
    "```\n",
    "    array([2.02280000e-01,  -7.66180009e-02,   3.70319992e-01,\n",
    "       3.28450017e-02,  -4.19569999e-01,   7.20689967e-02,\n",
    "      -3.74760002e-01,   5.74599989e-02,  -1.24009997e-02,\n",
    "       5.29489994e-01,  -5.23800015e-01,  -1.97710007e-01,\n",
    "      -3.41470003e-01,   5.33169985e-01,  -2.53309999e-02,\n",
    "       1.73800007e-01,   1.67720005e-01,   8.39839995e-01,\n",
    "       5.51070012e-02,   1.05470002e-01,   3.78719985e-01,\n",
    "       2.42750004e-01,   1.47449998e-02,   5.59509993e-01,\n",
    "       1.25210002e-01,  -6.75960004e-01,   3.58420014e-01,\n",
    "       # ... and so on ...\n",
    "       3.66849989e-01,   2.52470002e-03,  -6.40089989e-01,\n",
    "      -2.97650009e-01,   7.89430022e-01,   3.31680000e-01,\n",
    "      -1.19659996e+00,  -4.71559986e-02,   5.31750023e-01], dtype=float32)\n",
    "    \n",
    "```\n",
    "To better visualize what w2v: [illustrated word2vec](http://jalammar.github.io/illustrated-word2vec/)\n",
    "\n",
    "By knowing vector data of words, we can do many interesting things:\n",
    "1. Similarity among words\n",
    "1. Linear algebra among words \n",
    "1. Recommendation engines\n",
    "1. ...\n",
    "\n",
    "<hr>\n",
    "\n",
    "<h1> What are we doing today?</h1>\n",
    "\n",
    "1. Use the Seinfeld wordlist we just prepared\n",
    "1. Use spaCy word2vec model to vectorize a single word then many words\n",
    "1. Explore semantic similarity among words using math\n",
    "1. Create a fun method that transform any song title or lyrics into Seinfeld-themed word combination\n",
    "\n"
   ]
  },
  {
   "cell_type": "code",
   "execution_count": null,
   "metadata": {},
   "outputs": [],
   "source": []
  }
 ],
 "metadata": {
  "kernelspec": {
   "display_name": "Python 3",
   "language": "python",
   "name": "python3"
  },
  "language_info": {
   "codemirror_mode": {
    "name": "ipython",
    "version": 3
   },
   "file_extension": ".py",
   "mimetype": "text/x-python",
   "name": "python",
   "nbconvert_exporter": "python",
   "pygments_lexer": "ipython3",
   "version": "3.7.4"
  }
 },
 "nbformat": 4,
 "nbformat_minor": 2
}
